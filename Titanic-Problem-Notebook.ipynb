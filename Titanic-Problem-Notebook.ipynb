{
 "cells": [
  {
   "cell_type": "code",
   "execution_count": 1,
   "metadata": {
    "_cell_guid": "b1076dfc-b9ad-4769-8c92-a6c4dae69d19",
    "_uuid": "8f2839f25d086af736a60e9eeb907d3b93b6e0e5",
    "execution": {
     "iopub.execute_input": "2020-12-28T18:19:29.707136Z",
     "iopub.status.busy": "2020-12-28T18:19:29.706053Z",
     "iopub.status.idle": "2020-12-28T18:19:29.711278Z",
     "shell.execute_reply": "2020-12-28T18:19:29.710718Z"
    },
    "papermill": {
     "duration": 0.027348,
     "end_time": "2020-12-28T18:19:29.711408",
     "exception": false,
     "start_time": "2020-12-28T18:19:29.684060",
     "status": "completed"
    },
    "tags": []
   },
   "outputs": [
    {
     "name": "stdout",
     "output_type": "stream",
     "text": [
      "/kaggle/input/titanic/train.csv\n",
      "/kaggle/input/titanic/test.csv\n",
      "/kaggle/input/titanic/gender_submission.csv\n"
     ]
    }
   ],
   "source": [
    "# This Python 3 environment comes with many helpful analytics libraries installed\n",
    "# It is defined by the kaggle/python Docker image: https://github.com/kaggle/docker-python\n",
    "# For example, here's several helpful packages to load\n",
    "\n",
    "import numpy as np # linear algebra\n",
    "import pandas as pd # data processing, CSV file I/O (e.g. pd.read_csv)\n",
    "\n",
    "# Input data files are available in the read-only \"../input/\" directory\n",
    "# For example, running this (by clicking run or pressing Shift+Enter) will list all files under the input directory\n",
    "\n",
    "import os\n",
    "for dirname, _, filenames in os.walk('/kaggle/input'):\n",
    "    for filename in filenames:\n",
    "        print(os.path.join(dirname, filename))\n",
    "\n",
    "# You can write up to 20GB to the current directory (/kaggle/working/) that gets preserved as output when you create a version using \"Save & Run All\" \n",
    "# You can also write temporary files to /kaggle/temp/, but they won't be saved outside of the current session"
   ]
  },
  {
   "cell_type": "code",
   "execution_count": 2,
   "metadata": {
    "_cell_guid": "79c7e3d0-c299-4dcb-8224-4455121ee9b0",
    "_uuid": "d629ff2d2480ee46fbb7e2d37f6b5fab8052498a",
    "execution": {
     "iopub.execute_input": "2020-12-28T18:19:29.739311Z",
     "iopub.status.busy": "2020-12-28T18:19:29.738536Z",
     "iopub.status.idle": "2020-12-28T18:19:30.949012Z",
     "shell.execute_reply": "2020-12-28T18:19:30.949650Z"
    },
    "papermill": {
     "duration": 1.227266,
     "end_time": "2020-12-28T18:19:30.949813",
     "exception": false,
     "start_time": "2020-12-28T18:19:29.722547",
     "status": "completed"
    },
    "tags": []
   },
   "outputs": [],
   "source": [
    "import numpy as np\n",
    "import pandas as pd\n",
    "from sklearn.linear_model import LogisticRegression\n",
    "from sklearn.preprocessing import StandardScaler, LabelEncoder"
   ]
  },
  {
   "cell_type": "code",
   "execution_count": 3,
   "metadata": {
    "execution": {
     "iopub.execute_input": "2020-12-28T18:19:30.974967Z",
     "iopub.status.busy": "2020-12-28T18:19:30.974286Z",
     "iopub.status.idle": "2020-12-28T18:19:30.977866Z",
     "shell.execute_reply": "2020-12-28T18:19:30.978409Z"
    },
    "papermill": {
     "duration": 0.017828,
     "end_time": "2020-12-28T18:19:30.978636",
     "exception": false,
     "start_time": "2020-12-28T18:19:30.960808",
     "status": "completed"
    },
    "tags": []
   },
   "outputs": [],
   "source": [
    "model = LogisticRegression()"
   ]
  },
  {
   "cell_type": "code",
   "execution_count": 4,
   "metadata": {
    "execution": {
     "iopub.execute_input": "2020-12-28T18:19:31.003909Z",
     "iopub.status.busy": "2020-12-28T18:19:31.003205Z",
     "iopub.status.idle": "2020-12-28T18:19:31.066877Z",
     "shell.execute_reply": "2020-12-28T18:19:31.067373Z"
    },
    "papermill": {
     "duration": 0.077965,
     "end_time": "2020-12-28T18:19:31.067533",
     "exception": false,
     "start_time": "2020-12-28T18:19:30.989568",
     "status": "completed"
    },
    "tags": []
   },
   "outputs": [
    {
     "data": {
      "text/html": [
       "<div>\n",
       "<style scoped>\n",
       "    .dataframe tbody tr th:only-of-type {\n",
       "        vertical-align: middle;\n",
       "    }\n",
       "\n",
       "    .dataframe tbody tr th {\n",
       "        vertical-align: top;\n",
       "    }\n",
       "\n",
       "    .dataframe thead th {\n",
       "        text-align: right;\n",
       "    }\n",
       "</style>\n",
       "<table border=\"1\" class=\"dataframe\">\n",
       "  <thead>\n",
       "    <tr style=\"text-align: right;\">\n",
       "      <th></th>\n",
       "      <th>Pclass</th>\n",
       "      <th>Sex</th>\n",
       "      <th>Age</th>\n",
       "      <th>SibSp</th>\n",
       "      <th>Parch</th>\n",
       "      <th>Fare</th>\n",
       "      <th>Embarked</th>\n",
       "    </tr>\n",
       "  </thead>\n",
       "  <tbody>\n",
       "    <tr>\n",
       "      <th>0</th>\n",
       "      <td>3</td>\n",
       "      <td>male</td>\n",
       "      <td>34.5</td>\n",
       "      <td>0</td>\n",
       "      <td>0</td>\n",
       "      <td>7.8292</td>\n",
       "      <td>Q</td>\n",
       "    </tr>\n",
       "    <tr>\n",
       "      <th>1</th>\n",
       "      <td>3</td>\n",
       "      <td>female</td>\n",
       "      <td>47.0</td>\n",
       "      <td>1</td>\n",
       "      <td>0</td>\n",
       "      <td>7.0000</td>\n",
       "      <td>S</td>\n",
       "    </tr>\n",
       "    <tr>\n",
       "      <th>2</th>\n",
       "      <td>2</td>\n",
       "      <td>male</td>\n",
       "      <td>62.0</td>\n",
       "      <td>0</td>\n",
       "      <td>0</td>\n",
       "      <td>9.6875</td>\n",
       "      <td>Q</td>\n",
       "    </tr>\n",
       "    <tr>\n",
       "      <th>3</th>\n",
       "      <td>3</td>\n",
       "      <td>male</td>\n",
       "      <td>27.0</td>\n",
       "      <td>0</td>\n",
       "      <td>0</td>\n",
       "      <td>8.6625</td>\n",
       "      <td>S</td>\n",
       "    </tr>\n",
       "    <tr>\n",
       "      <th>4</th>\n",
       "      <td>3</td>\n",
       "      <td>female</td>\n",
       "      <td>22.0</td>\n",
       "      <td>1</td>\n",
       "      <td>1</td>\n",
       "      <td>12.2875</td>\n",
       "      <td>S</td>\n",
       "    </tr>\n",
       "    <tr>\n",
       "      <th>...</th>\n",
       "      <td>...</td>\n",
       "      <td>...</td>\n",
       "      <td>...</td>\n",
       "      <td>...</td>\n",
       "      <td>...</td>\n",
       "      <td>...</td>\n",
       "      <td>...</td>\n",
       "    </tr>\n",
       "    <tr>\n",
       "      <th>413</th>\n",
       "      <td>3</td>\n",
       "      <td>male</td>\n",
       "      <td>NaN</td>\n",
       "      <td>0</td>\n",
       "      <td>0</td>\n",
       "      <td>8.0500</td>\n",
       "      <td>S</td>\n",
       "    </tr>\n",
       "    <tr>\n",
       "      <th>414</th>\n",
       "      <td>1</td>\n",
       "      <td>female</td>\n",
       "      <td>39.0</td>\n",
       "      <td>0</td>\n",
       "      <td>0</td>\n",
       "      <td>108.9000</td>\n",
       "      <td>C</td>\n",
       "    </tr>\n",
       "    <tr>\n",
       "      <th>415</th>\n",
       "      <td>3</td>\n",
       "      <td>male</td>\n",
       "      <td>38.5</td>\n",
       "      <td>0</td>\n",
       "      <td>0</td>\n",
       "      <td>7.2500</td>\n",
       "      <td>S</td>\n",
       "    </tr>\n",
       "    <tr>\n",
       "      <th>416</th>\n",
       "      <td>3</td>\n",
       "      <td>male</td>\n",
       "      <td>NaN</td>\n",
       "      <td>0</td>\n",
       "      <td>0</td>\n",
       "      <td>8.0500</td>\n",
       "      <td>S</td>\n",
       "    </tr>\n",
       "    <tr>\n",
       "      <th>417</th>\n",
       "      <td>3</td>\n",
       "      <td>male</td>\n",
       "      <td>NaN</td>\n",
       "      <td>1</td>\n",
       "      <td>1</td>\n",
       "      <td>22.3583</td>\n",
       "      <td>C</td>\n",
       "    </tr>\n",
       "  </tbody>\n",
       "</table>\n",
       "<p>418 rows × 7 columns</p>\n",
       "</div>"
      ],
      "text/plain": [
       "     Pclass     Sex   Age  SibSp  Parch      Fare Embarked\n",
       "0         3    male  34.5      0      0    7.8292        Q\n",
       "1         3  female  47.0      1      0    7.0000        S\n",
       "2         2    male  62.0      0      0    9.6875        Q\n",
       "3         3    male  27.0      0      0    8.6625        S\n",
       "4         3  female  22.0      1      1   12.2875        S\n",
       "..      ...     ...   ...    ...    ...       ...      ...\n",
       "413       3    male   NaN      0      0    8.0500        S\n",
       "414       1  female  39.0      0      0  108.9000        C\n",
       "415       3    male  38.5      0      0    7.2500        S\n",
       "416       3    male   NaN      0      0    8.0500        S\n",
       "417       3    male   NaN      1      1   22.3583        C\n",
       "\n",
       "[418 rows x 7 columns]"
      ]
     },
     "execution_count": 4,
     "metadata": {},
     "output_type": "execute_result"
    }
   ],
   "source": [
    "training_set = pd.read_csv('../input/titanic/train.csv')\n",
    "test_set = pd.read_csv('../input/titanic/test.csv')\n",
    "test_col = test_set['PassengerId']\n",
    "training_set = training_set.drop(columns = ['Name','Ticket','PassengerId','Cabin'])\n",
    "test_set = test_set.drop(columns = ['Name','Ticket','PassengerId','Cabin'])\n",
    "test_set"
   ]
  },
  {
   "cell_type": "code",
   "execution_count": 5,
   "metadata": {
    "execution": {
     "iopub.execute_input": "2020-12-28T18:19:31.097460Z",
     "iopub.status.busy": "2020-12-28T18:19:31.096327Z",
     "iopub.status.idle": "2020-12-28T18:19:31.134491Z",
     "shell.execute_reply": "2020-12-28T18:19:31.133762Z"
    },
    "papermill": {
     "duration": 0.055395,
     "end_time": "2020-12-28T18:19:31.134606",
     "exception": false,
     "start_time": "2020-12-28T18:19:31.079211",
     "status": "completed"
    },
    "tags": []
   },
   "outputs": [],
   "source": [
    "training_set = training_set.dropna()\n",
    "test_set.iloc[:,2] = test_set.iloc[:,2].fillna(test_set.iloc[:,2].mean())\n",
    "test_set['Fare'] = test_set['Fare'].fillna(test_set['Fare'].mean())"
   ]
  },
  {
   "cell_type": "code",
   "execution_count": 6,
   "metadata": {
    "execution": {
     "iopub.execute_input": "2020-12-28T18:19:31.164990Z",
     "iopub.status.busy": "2020-12-28T18:19:31.164133Z",
     "iopub.status.idle": "2020-12-28T18:19:31.166897Z",
     "shell.execute_reply": "2020-12-28T18:19:31.166335Z"
    },
    "papermill": {
     "duration": 0.020561,
     "end_time": "2020-12-28T18:19:31.167006",
     "exception": false,
     "start_time": "2020-12-28T18:19:31.146445",
     "status": "completed"
    },
    "tags": []
   },
   "outputs": [],
   "source": [
    "x_train = training_set.loc[:,'Pclass':]\n",
    "y_train = training_set.loc[:,'Survived']\n",
    "x_test = test_set"
   ]
  },
  {
   "cell_type": "code",
   "execution_count": 7,
   "metadata": {
    "execution": {
     "iopub.execute_input": "2020-12-28T18:19:31.202194Z",
     "iopub.status.busy": "2020-12-28T18:19:31.201502Z",
     "iopub.status.idle": "2020-12-28T18:19:31.204922Z",
     "shell.execute_reply": "2020-12-28T18:19:31.204410Z"
    },
    "papermill": {
     "duration": 0.025683,
     "end_time": "2020-12-28T18:19:31.205038",
     "exception": false,
     "start_time": "2020-12-28T18:19:31.179355",
     "status": "completed"
    },
    "tags": []
   },
   "outputs": [],
   "source": [
    "x_train['Sex'] = LabelEncoder().fit_transform(x_train['Sex'])\n",
    "x_train['Embarked'] = LabelEncoder().fit_transform(x_train['Embarked'])\n",
    "x_test['Sex'] = LabelEncoder().fit_transform(x_test['Sex'])\n",
    "x_test['Embarked'] = LabelEncoder().fit_transform(x_test['Embarked'])"
   ]
  },
  {
   "cell_type": "code",
   "execution_count": 8,
   "metadata": {
    "execution": {
     "iopub.execute_input": "2020-12-28T18:19:31.233541Z",
     "iopub.status.busy": "2020-12-28T18:19:31.232583Z",
     "iopub.status.idle": "2020-12-28T18:19:31.245943Z",
     "shell.execute_reply": "2020-12-28T18:19:31.246445Z"
    },
    "papermill": {
     "duration": 0.029452,
     "end_time": "2020-12-28T18:19:31.246595",
     "exception": false,
     "start_time": "2020-12-28T18:19:31.217143",
     "status": "completed"
    },
    "tags": []
   },
   "outputs": [],
   "source": [
    "x_train = StandardScaler().fit_transform(x_train)\n",
    "x_test = StandardScaler().fit_transform(x_test)"
   ]
  },
  {
   "cell_type": "code",
   "execution_count": 9,
   "metadata": {
    "execution": {
     "iopub.execute_input": "2020-12-28T18:19:31.274798Z",
     "iopub.status.busy": "2020-12-28T18:19:31.273959Z",
     "iopub.status.idle": "2020-12-28T18:19:31.279738Z",
     "shell.execute_reply": "2020-12-28T18:19:31.279026Z"
    },
    "papermill": {
     "duration": 0.021198,
     "end_time": "2020-12-28T18:19:31.279860",
     "exception": false,
     "start_time": "2020-12-28T18:19:31.258662",
     "status": "completed"
    },
    "tags": []
   },
   "outputs": [],
   "source": [
    "y_train = np.array(y_train)"
   ]
  },
  {
   "cell_type": "code",
   "execution_count": 10,
   "metadata": {
    "execution": {
     "iopub.execute_input": "2020-12-28T18:19:31.311160Z",
     "iopub.status.busy": "2020-12-28T18:19:31.310157Z",
     "iopub.status.idle": "2020-12-28T18:19:31.360604Z",
     "shell.execute_reply": "2020-12-28T18:19:31.361126Z"
    },
    "papermill": {
     "duration": 0.068793,
     "end_time": "2020-12-28T18:19:31.361309",
     "exception": false,
     "start_time": "2020-12-28T18:19:31.292516",
     "status": "completed"
    },
    "tags": []
   },
   "outputs": [
    {
     "data": {
      "text/plain": [
       "LogisticRegression()"
      ]
     },
     "execution_count": 10,
     "metadata": {},
     "output_type": "execute_result"
    }
   ],
   "source": [
    "model.fit(x_train,y_train)"
   ]
  },
  {
   "cell_type": "code",
   "execution_count": 11,
   "metadata": {
    "execution": {
     "iopub.execute_input": "2020-12-28T18:19:31.393095Z",
     "iopub.status.busy": "2020-12-28T18:19:31.392073Z",
     "iopub.status.idle": "2020-12-28T18:19:31.398123Z",
     "shell.execute_reply": "2020-12-28T18:19:31.397468Z"
    },
    "papermill": {
     "duration": 0.023982,
     "end_time": "2020-12-28T18:19:31.398252",
     "exception": false,
     "start_time": "2020-12-28T18:19:31.374270",
     "status": "completed"
    },
    "tags": []
   },
   "outputs": [
    {
     "data": {
      "text/plain": [
       "0.8019662921348315"
      ]
     },
     "execution_count": 11,
     "metadata": {},
     "output_type": "execute_result"
    }
   ],
   "source": [
    "model.score(x_train,y_train)"
   ]
  },
  {
   "cell_type": "code",
   "execution_count": 12,
   "metadata": {
    "execution": {
     "iopub.execute_input": "2020-12-28T18:19:31.431131Z",
     "iopub.status.busy": "2020-12-28T18:19:31.430124Z",
     "iopub.status.idle": "2020-12-28T18:19:31.432925Z",
     "shell.execute_reply": "2020-12-28T18:19:31.433400Z"
    },
    "papermill": {
     "duration": 0.021668,
     "end_time": "2020-12-28T18:19:31.433550",
     "exception": false,
     "start_time": "2020-12-28T18:19:31.411882",
     "status": "completed"
    },
    "tags": []
   },
   "outputs": [],
   "source": [
    "y_test = model.predict(x_test)\n"
   ]
  },
  {
   "cell_type": "code",
   "execution_count": 13,
   "metadata": {
    "execution": {
     "iopub.execute_input": "2020-12-28T18:19:31.466846Z",
     "iopub.status.busy": "2020-12-28T18:19:31.465910Z",
     "iopub.status.idle": "2020-12-28T18:19:31.469799Z",
     "shell.execute_reply": "2020-12-28T18:19:31.469229Z"
    },
    "papermill": {
     "duration": 0.023006,
     "end_time": "2020-12-28T18:19:31.469911",
     "exception": false,
     "start_time": "2020-12-28T18:19:31.446905",
     "status": "completed"
    },
    "tags": []
   },
   "outputs": [],
   "source": [
    "df = pd.DataFrame({'PassengerId': test_col, 'Survived': y_test})"
   ]
  },
  {
   "cell_type": "code",
   "execution_count": 14,
   "metadata": {
    "execution": {
     "iopub.execute_input": "2020-12-28T18:19:31.502628Z",
     "iopub.status.busy": "2020-12-28T18:19:31.501931Z",
     "iopub.status.idle": "2020-12-28T18:19:31.900413Z",
     "shell.execute_reply": "2020-12-28T18:19:31.901009Z"
    },
    "papermill": {
     "duration": 0.417433,
     "end_time": "2020-12-28T18:19:31.901158",
     "exception": false,
     "start_time": "2020-12-28T18:19:31.483725",
     "status": "completed"
    },
    "tags": []
   },
   "outputs": [],
   "source": [
    "filename= 'titanic predictions.csv'\n",
    "df.to_csv(filename, index=False)"
   ]
  }
 ],
 "metadata": {
  "kernelspec": {
   "display_name": "Python 3",
   "language": "python",
   "name": "python3"
  },
  "language_info": {
   "codemirror_mode": {
    "name": "ipython",
    "version": 3
   },
   "file_extension": ".py",
   "mimetype": "text/x-python",
   "name": "python",
   "nbconvert_exporter": "python",
   "pygments_lexer": "ipython3",
   "version": "3.7.6"
  },
  "papermill": {
   "duration": 7.823349,
   "end_time": "2020-12-28T18:19:32.023412",
   "environment_variables": {},
   "exception": null,
   "input_path": "__notebook__.ipynb",
   "output_path": "__notebook__.ipynb",
   "parameters": {},
   "start_time": "2020-12-28T18:19:24.200063",
   "version": "2.1.0"
  }
 },
 "nbformat": 4,
 "nbformat_minor": 4
}
